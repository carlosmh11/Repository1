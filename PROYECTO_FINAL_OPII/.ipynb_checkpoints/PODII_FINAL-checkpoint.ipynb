{
 "cells": [
  {
   "cell_type": "markdown",
   "metadata": {},
   "source": [
    "# <font color='blue'> Proyecto Open Data II"
   ]
  },
  {
   "cell_type": "markdown",
   "metadata": {},
   "source": [
    "Carlos Martín Hernández"
   ]
  },
  {
   "cell_type": "markdown",
   "metadata": {},
   "source": [
    "## <font color='blue'> ÍNDICE </font>\n",
    ">1. [Inicialización de PySpark](#imports1)\n",
    ">2. [Importación de datos](#imports2)\n",
    ">3. [Modelo Regresión Logística](#modelo1)\n",
    ">4. [Modelo Random Forest](#modelo2)\n",
    ">5. [Mejoras al Modelo](#mejoras)"
   ]
  },
  {
   "cell_type": "markdown",
   "metadata": {},
   "source": [
    "### <a name='imports1'><font color='blue'> 1. Inicialización de PySpark: </font></a>"
   ]
  },
  {
   "cell_type": "markdown",
   "metadata": {},
   "source": [
    "Se añaden los imports necesarios para inicializar PySpark y para la realización del proyecto."
   ]
  },
  {
   "cell_type": "code",
   "execution_count": 1,
   "metadata": {},
   "outputs": [],
   "source": [
    "import findspark\n",
    "findspark.init()"
   ]
  },
  {
   "cell_type": "code",
   "execution_count": 2,
   "metadata": {},
   "outputs": [],
   "source": [
    "import pyspark"
   ]
  },
  {
   "cell_type": "code",
   "execution_count": 3,
   "metadata": {},
   "outputs": [],
   "source": [
    "import os\n",
    "import pyspark.sql.types as typ\n",
    "import pandas as pd\n",
    "from pyspark import SparkConf, SparkContext\n",
    "from pyspark.sql import SparkSession\n",
    "from pyspark.context import SparkContext\n",
    "from pyspark.sql.session import SparkSession\n",
    "from pyspark.sql.types import *\n",
    "from pyspark.sql.types import StructType, StructField, LongType, StringType\n",
    "from pyspark.sql import SQLContext"
   ]
  },
  {
   "cell_type": "code",
   "execution_count": 4,
   "metadata": {},
   "outputs": [],
   "source": [
    "sc = SparkContext('local')\n",
    "spark = SparkSession(sc)"
   ]
  },
  {
   "cell_type": "code",
   "execution_count": 5,
   "metadata": {},
   "outputs": [
    {
     "name": "stderr",
     "output_type": "stream",
     "text": [
      "C:\\Users\\User\\Documents\\SPARK\\python\\pyspark\\sql\\context.py:77: FutureWarning: Deprecated in 3.0.0. Use SparkSession.builder.getOrCreate() instead.\n",
      "  warnings.warn(\n"
     ]
    }
   ],
   "source": [
    "sqlContext = SQLContext(sc)"
   ]
  },
  {
   "cell_type": "markdown",
   "metadata": {},
   "source": [
    "### <a name='imports2'><font color='blue'> 2. Importación de datos: </font></a>"
   ]
  },
  {
   "cell_type": "markdown",
   "metadata": {},
   "source": [
    "Se crea el \"schema\", que contiene el nuevo nombre de cada columna del dataset."
   ]
  },
  {
   "cell_type": "code",
   "execution_count": 6,
   "metadata": {},
   "outputs": [],
   "source": [
    "Labels = [\n",
    "    ('TÍTULOS_CONSEGUIDOS', typ.IntegerType()),\n",
    "    ('PRUEBA', typ.StringType()),\n",
    "    ('EDAD_PARTICIPANTE', typ.IntegerType()),\n",
    "    ('VALORACIÓN_PREVIA', typ.IntegerType()),\n",
    "    ('PENALIZACIONES_FASE_1', typ.IntegerType()),\n",
    "    ('PENALIZACIONES_FASE_2', typ.IntegerType()),\n",
    "    ('PENALIZACIONES_FASE_3', typ.IntegerType()),\n",
    "    ('PENALIZACIONES_FASE_4', typ.IntegerType()),\n",
    "    ('PUNTUACIÓN', typ.IntegerType()),\n",
    "    ('TIEMPO_INTENTO_1', typ.IntegerType()),\n",
    "    ('TIEMPO_INTENTO_2', typ.IntegerType()),\n",
    "    ('DIFERENCIA_T1_T2', typ.IntegerType()),\n",
    "    ('BONUS_FASE_1', typ.IntegerType()),\n",
    "    ('BONUS_FASE_2', typ.IntegerType()),\n",
    "    ('BONUS_FASE_3', typ.IntegerType()),\n",
    "    ('BONUS_FASE_4', typ.IntegerType()),\n",
    "    ('ABANDONOS', typ.IntegerType())\n",
    "]\n",
    "\n",
    "schema = typ.StructType([\n",
    "    typ.StructField(e[0], e[1], False) for e in Labels])"
   ]
  },
  {
   "cell_type": "markdown",
   "metadata": {},
   "source": [
    "Se importan los datos y se les añade el schema creado previamente."
   ]
  },
  {
   "cell_type": "code",
   "execution_count": 7,
   "metadata": {},
   "outputs": [],
   "source": [
    "data = pd.read_csv('competition_data.csv') \n",
    "competition = sqlContext.createDataFrame(data,schema)"
   ]
  },
  {
   "cell_type": "markdown",
   "metadata": {},
   "source": [
    "Comprobación del tipo de dato de cada columna del dataset."
   ]
  },
  {
   "cell_type": "code",
   "execution_count": 8,
   "metadata": {},
   "outputs": [
    {
     "data": {
      "text/plain": [
       "[('TÍTULOS_CONSEGUIDOS', 'int'),\n",
       " ('PRUEBA', 'string'),\n",
       " ('EDAD_PARTICIPANTE', 'int'),\n",
       " ('VALORACIÓN_PREVIA', 'int'),\n",
       " ('PENALIZACIONES_FASE_1', 'int'),\n",
       " ('PENALIZACIONES_FASE_2', 'int'),\n",
       " ('PENALIZACIONES_FASE_3', 'int'),\n",
       " ('PENALIZACIONES_FASE_4', 'int'),\n",
       " ('PUNTUACIÓN', 'int'),\n",
       " ('TIEMPO_INTENTO_1', 'int'),\n",
       " ('TIEMPO_INTENTO_2', 'int'),\n",
       " ('DIFERENCIA_T1_T2', 'int'),\n",
       " ('BONUS_FASE_1', 'int'),\n",
       " ('BONUS_FASE_2', 'int'),\n",
       " ('BONUS_FASE_3', 'int'),\n",
       " ('BONUS_FASE_4', 'int'),\n",
       " ('ABANDONOS', 'int')]"
      ]
     },
     "execution_count": 8,
     "metadata": {},
     "output_type": "execute_result"
    }
   ],
   "source": [
    "competition.dtypes"
   ]
  },
  {
   "cell_type": "markdown",
   "metadata": {},
   "source": [
    "Comprobación de la longitud del dataset."
   ]
  },
  {
   "cell_type": "code",
   "execution_count": 9,
   "metadata": {},
   "outputs": [
    {
     "name": "stdout",
     "output_type": "stream",
     "text": [
      "(24853, 17)\n"
     ]
    }
   ],
   "source": [
    "print(data.shape)"
   ]
  },
  {
   "cell_type": "markdown",
   "metadata": {},
   "source": [
    "### <a name='modelo1'><font color='blue'> 3. Modelo de Regresión Logística: </font></a>"
   ]
  },
  {
   "cell_type": "markdown",
   "metadata": {},
   "source": [
    "Se añaden los imports necearios para la realización de este apartado."
   ]
  },
  {
   "cell_type": "code",
   "execution_count": 10,
   "metadata": {},
   "outputs": [],
   "source": [
    "import pyspark.ml.feature as ft\n",
    "import pyspark.ml.classification as cl\n",
    "from pyspark.sql.types import DoubleType\n",
    "from pyspark.ml import Pipeline\n",
    "import pyspark.ml.evaluation as ev"
   ]
  },
  {
   "cell_type": "markdown",
   "metadata": {},
   "source": [
    "Se transforma a tipo numérico la variable \"PRUEBA\", ya que es necesario para crear el Transformer."
   ]
  },
  {
   "cell_type": "code",
   "execution_count": 11,
   "metadata": {},
   "outputs": [],
   "source": [
    "competition = competition.withColumn('PRUEBA_ID', competition['PRUEBA'].cast(typ.DoubleType()))"
   ]
  },
  {
   "cell_type": "markdown",
   "metadata": {},
   "source": [
    "A continuación se crea el encoder, para transformar la variable \"PRUEBA_ID\" a variable de vectores binarios."
   ]
  },
  {
   "cell_type": "code",
   "execution_count": 12,
   "metadata": {},
   "outputs": [],
   "source": [
    "encoder = ft.OneHotEncoder(inputCol='PRUEBA_ID', outputCol='PRUEBA_VEC')"
   ]
  },
  {
   "cell_type": "markdown",
   "metadata": {},
   "source": [
    "Se crea el \"featuresCreator\", utilizando el método \"VectorAssembler\"."
   ]
  },
  {
   "cell_type": "code",
   "execution_count": 13,
   "metadata": {},
   "outputs": [],
   "source": [
    "featuresCreator = ft.VectorAssembler(inputCols=[col[0] for col in Labels[2:]] + [encoder.getOutputCol()],\n",
    "                   outputCol='features')"
   ]
  },
  {
   "cell_type": "markdown",
   "metadata": {},
   "source": [
    "Una vez realizados estos pasos previos, comienza la creación del modelo. En este caso, es un modelo de tipo Clasificación y una Regresión Logística."
   ]
  },
  {
   "cell_type": "code",
   "execution_count": 14,
   "metadata": {},
   "outputs": [],
   "source": [
    "logistic = cl.LogisticRegression(\n",
    "    maxIter=10, \n",
    "    regParam=0.01, \n",
    "    labelCol='TÍTULOS_CONSEGUIDOS')"
   ]
  },
  {
   "cell_type": "markdown",
   "metadata": {},
   "source": [
    "Se transforma a tipo \"double\" la variable \"TÍTULOS CONSEGUIDOS\", ya que es necesario para la realización de este modelo."
   ]
  },
  {
   "cell_type": "code",
   "execution_count": 15,
   "metadata": {},
   "outputs": [],
   "source": [
    "competition = competition.withColumn(\"TÍTULOS_CONSEGUIDOS\", competition[\"TÍTULOS_CONSEGUIDOS\"].cast(DoubleType()))"
   ]
  },
  {
   "cell_type": "markdown",
   "metadata": {},
   "source": [
    "Se crea el \"Pipeline\" con el \"encoder\", el \"featuresCreator\" y el modelo elegido, el logístico."
   ]
  },
  {
   "cell_type": "code",
   "execution_count": 16,
   "metadata": {},
   "outputs": [],
   "source": [
    "pipeline = Pipeline(stages=[encoder, featuresCreator, logistic])"
   ]
  },
  {
   "cell_type": "markdown",
   "metadata": {},
   "source": [
    "División del dataset en conjunto de test y entrenamiento, en este caso: 80% entrenamiento, 20% test."
   ]
  },
  {
   "cell_type": "code",
   "execution_count": 17,
   "metadata": {},
   "outputs": [],
   "source": [
    "competition_train, competition_test = competition.randomSplit([0.8, 0.2], seed=666)"
   ]
  },
  {
   "cell_type": "markdown",
   "metadata": {},
   "source": [
    "Se entrena el modelo de regresión."
   ]
  },
  {
   "cell_type": "code",
   "execution_count": 18,
   "metadata": {},
   "outputs": [],
   "source": [
    "model = pipeline.fit(competition_train)"
   ]
  },
  {
   "cell_type": "code",
   "execution_count": 19,
   "metadata": {},
   "outputs": [],
   "source": [
    "model_test = model.transform(competition_test)"
   ]
  },
  {
   "cell_type": "code",
   "execution_count": 20,
   "metadata": {},
   "outputs": [
    {
     "data": {
      "text/plain": [
       "[Row(TÍTULOS_CONSEGUIDOS=0.0, PRUEBA='1', EDAD_PARTICIPANTE=15, VALORACIÓN_PREVIA=89, PENALIZACIONES_FASE_1=0, PENALIZACIONES_FASE_2=0, PENALIZACIONES_FASE_3=0, PENALIZACIONES_FASE_4=0, PUNTUACIÓN=63, TIEMPO_INTENTO_1=130, TIEMPO_INTENTO_2=147, DIFERENCIA_T1_T2=17, BONUS_FASE_1=0, BONUS_FASE_2=0, BONUS_FASE_3=0, BONUS_FASE_4=0, ABANDONOS=0, PRUEBA_ID=1.0, PRUEBA_VEC=SparseVector(9, {1: 1.0}), features=SparseVector(24, {0: 15.0, 1: 89.0, 6: 63.0, 7: 130.0, 8: 147.0, 9: 17.0, 16: 1.0}), rawPrediction=DenseVector([-0.6889, 0.6889]), probability=DenseVector([0.3343, 0.6657]), prediction=1.0)]"
      ]
     },
     "execution_count": 20,
     "metadata": {},
     "output_type": "execute_result"
    }
   ],
   "source": [
    "model_test.take(1)"
   ]
  },
  {
   "cell_type": "markdown",
   "metadata": {},
   "source": [
    "Por último, se evalúa el modelo mediante el cálculo del \"areaUnderROC\" y del \"areaUnderPR\""
   ]
  },
  {
   "cell_type": "code",
   "execution_count": 21,
   "metadata": {},
   "outputs": [
    {
     "name": "stdout",
     "output_type": "stream",
     "text": [
      "0.7356634133277236\n",
      "0.8909169191530993\n"
     ]
    }
   ],
   "source": [
    "evaluator = ev.BinaryClassificationEvaluator(\n",
    "    rawPredictionCol='probability', \n",
    "    labelCol='TÍTULOS_CONSEGUIDOS')\n",
    "\n",
    "print(evaluator.evaluate(model_test, {evaluator.metricName: 'areaUnderROC'}))\n",
    "print(evaluator.evaluate(model_test, {evaluator.metricName: 'areaUnderPR'}))"
   ]
  },
  {
   "cell_type": "markdown",
   "metadata": {},
   "source": [
    "### <a name='modelo2'><font color='blue'> 4. Modelo de Random Forest: </font></a>"
   ]
  },
  {
   "cell_type": "markdown",
   "metadata": {},
   "source": [
    "Se añaden los imports necearios para la realización de este apartado."
   ]
  },
  {
   "cell_type": "code",
   "execution_count": 22,
   "metadata": {},
   "outputs": [],
   "source": [
    "import pyspark.sql.functions as func\n",
    "from pyspark.ml.feature import StringIndexer\n",
    "import pyspark.ml.classification as cl\n",
    "import pyspark.ml.tuning as tune\n",
    "import pyspark.ml.evaluation as ev"
   ]
  },
  {
   "cell_type": "markdown",
   "metadata": {},
   "source": [
    "Se crea el \"indexer\" para obtener el \"TÍTULOS_CONSEGUIDOS_indexer\""
   ]
  },
  {
   "cell_type": "code",
   "execution_count": 23,
   "metadata": {},
   "outputs": [],
   "source": [
    "indexer = StringIndexer(inputCol=\"TÍTULOS_CONSEGUIDOS\", outputCol=\"TÍTULOS_CONSEGUIDOS_indexer\").fit(competition)"
   ]
  },
  {
   "cell_type": "markdown",
   "metadata": {},
   "source": [
    "División del dataset en conjunto de test y entrenamiento, en este caso: 70% entrenamiento, 30% test."
   ]
  },
  {
   "cell_type": "code",
   "execution_count": 24,
   "metadata": {},
   "outputs": [],
   "source": [
    "competition_train, competition_test = competition.randomSplit([0.7, 0.3], seed=666)"
   ]
  },
  {
   "cell_type": "markdown",
   "metadata": {},
   "source": [
    "Se entrena el modelo de Random Forest."
   ]
  },
  {
   "cell_type": "code",
   "execution_count": 25,
   "metadata": {},
   "outputs": [],
   "source": [
    "classifier = cl.RandomForestClassifier(\n",
    "    \n",
    "    numTrees=20, \n",
    "    maxDepth=25, \n",
    "   \n",
    "    labelCol='TÍTULOS_CONSEGUIDOS_indexer')\n",
    "\n",
    "grid = tune.ParamGridBuilder().addGrid(classifier.numTrees, [1, 3, 5]).addGrid(classifier.maxDepth, [5, 6, 7]).build()\n",
    "\n",
    "pipeline = Pipeline(\n",
    "    stages=[\n",
    "        indexer,\n",
    "        encoder,\n",
    "        featuresCreator, \n",
    "        classifier])\n",
    "\n",
    "model = pipeline.fit(competition_train)\n",
    "test = model.transform(competition_test)"
   ]
  },
  {
   "cell_type": "code",
   "execution_count": 26,
   "metadata": {},
   "outputs": [
    {
     "data": {
      "text/plain": [
       "[Row(TÍTULOS_CONSEGUIDOS=0.0, PRUEBA='1', EDAD_PARTICIPANTE=14, VALORACIÓN_PREVIA=89, PENALIZACIONES_FASE_1=0, PENALIZACIONES_FASE_2=0, PENALIZACIONES_FASE_3=0, PENALIZACIONES_FASE_4=0, PUNTUACIÓN=65, TIEMPO_INTENTO_1=170, TIEMPO_INTENTO_2=193, DIFERENCIA_T1_T2=23, BONUS_FASE_1=0, BONUS_FASE_2=0, BONUS_FASE_3=0, BONUS_FASE_4=0, ABANDONOS=0, PRUEBA_ID=1.0, TÍTULOS_CONSEGUIDOS_indexer=1.0, PRUEBA_VEC=SparseVector(9, {1: 1.0}), features=SparseVector(24, {0: 14.0, 1: 89.0, 6: 65.0, 7: 170.0, 8: 193.0, 9: 23.0, 16: 1.0}), rawPrediction=DenseVector([15.9029, 4.0971]), probability=DenseVector([0.7951, 0.2049]), prediction=0.0)]"
      ]
     },
     "execution_count": 26,
     "metadata": {},
     "output_type": "execute_result"
    }
   ],
   "source": [
    "test.take(1)"
   ]
  },
  {
   "cell_type": "markdown",
   "metadata": {},
   "source": [
    "Por último, se evalúa el modelo mediante el cálculo del \"areaUnderROC\" y del \"areaUnderPR\"."
   ]
  },
  {
   "cell_type": "code",
   "execution_count": 27,
   "metadata": {},
   "outputs": [
    {
     "name": "stdout",
     "output_type": "stream",
     "text": [
      "0.7733841018038954\n",
      "0.514262310299172\n"
     ]
    }
   ],
   "source": [
    "evaluator = ev.BinaryClassificationEvaluator(\n",
    "    rawPredictionCol='probability', \n",
    "    labelCol='TÍTULOS_CONSEGUIDOS_indexer')\n",
    "\n",
    "print(evaluator.evaluate(test, {evaluator.metricName: 'areaUnderROC'}))\n",
    "print(evaluator.evaluate(test, {evaluator.metricName: 'areaUnderPR'}))"
   ]
  },
  {
   "cell_type": "markdown",
   "metadata": {},
   "source": [
    "### <a name='mejoras'><font color='blue'> 5. Mejoras al Modelo: </font></a>"
   ]
  },
  {
   "cell_type": "markdown",
   "metadata": {},
   "source": [
    "Se añaden los imports necearios para la realización de este apartado."
   ]
  },
  {
   "cell_type": "code",
   "execution_count": 28,
   "metadata": {},
   "outputs": [],
   "source": [
    "from pyspark.ml.feature import VectorAssembler\n",
    "from pyspark.mllib.linalg import Vectors\n",
    "from pyspark.ml.linalg import Vectors\n",
    "from pyspark.ml.classification import LogisticRegression\n",
    "from pyspark.ml.param import Param, Params\n",
    "import numpy as np\n",
    "import pyspark.ml.feature as ft\n",
    "from pyspark.ml.feature import ChiSqSelector\n",
    "from pyspark.ml.feature import PCA\n",
    "from pyspark.sql import Row"
   ]
  },
  {
   "cell_type": "markdown",
   "metadata": {},
   "source": [
    "Se construye el \"Grid\"."
   ]
  },
  {
   "cell_type": "code",
   "execution_count": 29,
   "metadata": {},
   "outputs": [],
   "source": [
    "logistic = cl.LogisticRegression(labelCol='TÍTULOS_CONSEGUIDOS')\n",
    "grid = tune.ParamGridBuilder().addGrid(logistic.maxIter, [2, 10, 50]).addGrid(logistic.regParam, [0.01, 0.05, 0.3]).build()"
   ]
  },
  {
   "cell_type": "markdown",
   "metadata": {},
   "source": [
    "De nuevo aparece el \"BinayClassificationEvaluator\", para comparar los modelos."
   ]
  },
  {
   "cell_type": "code",
   "execution_count": 30,
   "metadata": {},
   "outputs": [],
   "source": [
    "evaluator = ev.BinaryClassificationEvaluator(rawPredictionCol='probability', labelCol='TÍTULOS_CONSEGUIDOS')"
   ]
  },
  {
   "cell_type": "markdown",
   "metadata": {},
   "source": [
    "Mediante el \"CrossValidator\", se crea la lógica que realizará la validación."
   ]
  },
  {
   "cell_type": "code",
   "execution_count": 31,
   "metadata": {},
   "outputs": [],
   "source": [
    "cv = tune.CrossValidator(estimator=logistic, estimatorParamMaps=grid, evaluator=evaluator)"
   ]
  },
  {
   "cell_type": "markdown",
   "metadata": {},
   "source": [
    "Se crea el \"Pipeline\"."
   ]
  },
  {
   "cell_type": "code",
   "execution_count": 32,
   "metadata": {},
   "outputs": [],
   "source": [
    "pipeline = Pipeline(stages=[encoder,featuresCreator])\n",
    "data_transformer = pipeline.fit(competition_train)"
   ]
  },
  {
   "cell_type": "markdown",
   "metadata": {},
   "source": [
    "A continuación, se crea el \"cvModel\", que devolverá el mejor modelo estimado."
   ]
  },
  {
   "cell_type": "code",
   "execution_count": 33,
   "metadata": {},
   "outputs": [],
   "source": [
    "cvModel = cv.fit(data_transformer.transform(competition_train))"
   ]
  },
  {
   "cell_type": "markdown",
   "metadata": {},
   "source": [
    "Se comprueba si da valores mejores que el modelo previo."
   ]
  },
  {
   "cell_type": "code",
   "execution_count": 34,
   "metadata": {},
   "outputs": [
    {
     "name": "stdout",
     "output_type": "stream",
     "text": [
      "0.7326975308766814\n",
      "0.8929778735202063\n"
     ]
    },
    {
     "data": {
      "text/plain": [
       "0.8909169191530993"
      ]
     },
     "execution_count": 34,
     "metadata": {},
     "output_type": "execute_result"
    }
   ],
   "source": [
    "data_train = data_transformer.transform(competition_test)\n",
    "results = cvModel.transform(data_train)\n",
    "\n",
    "print(evaluator.evaluate(results, {evaluator.metricName: 'areaUnderROC'}))\n",
    "print(evaluator.evaluate(results, {evaluator.metricName: 'areaUnderPR'}))\n",
    "\n",
    "0.7356634133277236\n",
    "0.8909169191530993"
   ]
  },
  {
   "cell_type": "markdown",
   "metadata": {},
   "source": [
    "Para obtener cuales han sido los mejores parámetros:"
   ]
  },
  {
   "cell_type": "code",
   "execution_count": 35,
   "metadata": {},
   "outputs": [
    {
     "data": {
      "text/plain": [
       "([{'maxIter': 50}, {'regParam': 0.01}], 0.7420381791678892)"
      ]
     },
     "execution_count": 35,
     "metadata": {},
     "output_type": "execute_result"
    }
   ],
   "source": [
    "results = [([{key.name: paramValue} for key, paramValue \n",
    "            in zip(params.keys(), params.values())], metric) \n",
    "    for params, metric \n",
    "    in zip(cvModel.getEstimatorParamMaps(), cvModel.avgMetrics)]\n",
    "\n",
    "sorted(results, key = lambda el: el[1], reverse=True)[0]"
   ]
  },
  {
   "cell_type": "code",
   "execution_count": 36,
   "metadata": {},
   "outputs": [
    {
     "data": {
      "text/plain": [
       "[OneHotEncoderModel: uid=OneHotEncoder_f384ea12d213, dropLast=true, handleInvalid=error,\n",
       " VectorAssembler_754097b2c92e]"
      ]
     },
     "execution_count": 36,
     "metadata": {},
     "output_type": "execute_result"
    }
   ],
   "source": [
    "data_transformer.stages"
   ]
  },
  {
   "cell_type": "code",
   "execution_count": 37,
   "metadata": {},
   "outputs": [
    {
     "data": {
      "text/plain": [
       "VectorAssembler_754097b2c92e"
      ]
     },
     "execution_count": 37,
     "metadata": {},
     "output_type": "execute_result"
    }
   ],
   "source": [
    "data_transformer.stages[-1]"
   ]
  },
  {
   "cell_type": "code",
   "execution_count": 38,
   "metadata": {},
   "outputs": [
    {
     "data": {
      "text/plain": [
       "[]"
      ]
     },
     "execution_count": 38,
     "metadata": {},
     "output_type": "execute_result"
    }
   ],
   "source": [
    "[stage.coefficients for stage in data_transformer.stages if hasattr(stage, \"coefficients\")]"
   ]
  },
  {
   "cell_type": "code",
   "execution_count": 39,
   "metadata": {},
   "outputs": [
    {
     "data": {
      "text/plain": [
       "''"
      ]
     },
     "execution_count": 39,
     "metadata": {},
     "output_type": "execute_result"
    }
   ],
   "source": [
    "data_transformer.explainParams()"
   ]
  },
  {
   "cell_type": "markdown",
   "metadata": {},
   "source": [
    "Mejores Parámetros:"
   ]
  },
  {
   "cell_type": "code",
   "execution_count": 40,
   "metadata": {},
   "outputs": [
    {
     "data": {
      "text/plain": [
       "\"aggregationDepth: suggested depth for treeAggregate (>= 2). (default: 2)\\nelasticNetParam: the ElasticNet mixing parameter, in range [0, 1]. For alpha = 0, the penalty is an L2 penalty. For alpha = 1, it is an L1 penalty. (default: 0.0)\\nfamily: The name of family which is a description of the label distribution to be used in the model. Supported options: auto, binomial, multinomial (default: auto)\\nfeaturesCol: features column name. (default: features)\\nfitIntercept: whether to fit an intercept term. (default: True)\\nlabelCol: label column name. (default: label, current: TÍTULOS_CONSEGUIDOS)\\nlowerBoundsOnCoefficients: The lower bounds on coefficients if fitting under bound constrained optimization. The bound matrix must be compatible with the shape (1, number of features) for binomial regression, or (number of classes, number of features) for multinomial regression. (undefined)\\nlowerBoundsOnIntercepts: The lower bounds on intercepts if fitting under bound constrained optimization. The bounds vector size must beequal with 1 for binomial regression, or the number oflasses for multinomial regression. (undefined)\\nmaxBlockSizeInMB: maximum memory in MB for stacking input data into blocks. Data is stacked within partitions. If more than remaining data size in a partition then it is adjusted to the data size. Default 0.0 represents choosing optimal value, depends on specific algorithm. Must be >= 0. (default: 0.0)\\nmaxIter: max number of iterations (>= 0). (default: 100, current: 50)\\npredictionCol: prediction column name. (default: prediction)\\nprobabilityCol: Column name for predicted class conditional probabilities. Note: Not all models output well-calibrated probability estimates! These probabilities should be treated as confidences, not precise probabilities. (default: probability)\\nrawPredictionCol: raw prediction (a.k.a. confidence) column name. (default: rawPrediction)\\nregParam: regularization parameter (>= 0). (default: 0.0, current: 0.01)\\nstandardization: whether to standardize the training features before fitting the model. (default: True)\\nthreshold: Threshold in binary classification prediction, in range [0, 1]. If threshold and thresholds are both set, they must match.e.g. if threshold is p, then thresholds must be equal to [1-p, p]. (default: 0.5)\\nthresholds: Thresholds in multi-class classification to adjust the probability of predicting each class. Array must have length equal to the number of classes, with values > 0, excepting that at most one value may be 0. The class with largest value p/t is predicted, where p is the original probability of that class and t is the class's threshold. (undefined)\\ntol: the convergence tolerance for iterative algorithms (>= 0). (default: 1e-06)\\nupperBoundsOnCoefficients: The upper bounds on coefficients if fitting under bound constrained optimization. The bound matrix must be compatible with the shape (1, number of features) for binomial regression, or (number of classes, number of features) for multinomial regression. (undefined)\\nupperBoundsOnIntercepts: The upper bounds on intercepts if fitting under bound constrained optimization. The bound vector size must be equal with 1 for binomial regression, or the number of classes for multinomial regression. (undefined)\\nweightCol: weight column name. If this is not set or empty, we treat all instance weights as 1.0. (undefined)\""
      ]
     },
     "execution_count": 40,
     "metadata": {},
     "output_type": "execute_result"
    }
   ],
   "source": [
    "cvModel.bestModel.explainParams()"
   ]
  },
  {
   "cell_type": "code",
   "execution_count": 41,
   "metadata": {},
   "outputs": [
    {
     "name": "stdout",
     "output_type": "stream",
     "text": [
      "Mejor Parámetro (MaxIter):  50\n"
     ]
    }
   ],
   "source": [
    "print ('Mejor Parámetro (MaxIter): ', cvModel.bestModel._java_obj.getMaxIter())"
   ]
  },
  {
   "cell_type": "code",
   "execution_count": 42,
   "metadata": {},
   "outputs": [
    {
     "name": "stdout",
     "output_type": "stream",
     "text": [
      "Mejor Parámetro (RegParam):  0.01\n"
     ]
    }
   ],
   "source": [
    "print ('Mejor Parámetro (RegParam): ', cvModel.bestModel._java_obj.getRegParam())"
   ]
  },
  {
   "cell_type": "code",
   "execution_count": 43,
   "metadata": {},
   "outputs": [],
   "source": [
    "l = cvModel.params"
   ]
  },
  {
   "cell_type": "code",
   "execution_count": 44,
   "metadata": {},
   "outputs": [
    {
     "data": {
      "text/plain": [
       "{Param(parent='CrossValidator_19cf7bdfaefc', name='collectSubModels', doc='Param for whether to collect a list of sub-models trained during tuning. If set to false, then only the single best sub-model will be available after fitting. If set to true, then all sub-models will be available. Warning: For large models, collecting all sub-models can cause OOMs on the Spark driver.'): False,\n",
       " Param(parent='CrossValidator_19cf7bdfaefc', name='parallelism', doc='the number of threads to use when running parallel algorithms (>= 1).'): 1,\n",
       " Param(parent='CrossValidator_19cf7bdfaefc', name='seed', doc='random seed.'): 698957015427823036,\n",
       " Param(parent='CrossValidator_19cf7bdfaefc', name='numFolds', doc='number of folds for cross validation'): 3,\n",
       " Param(parent='CrossValidator_19cf7bdfaefc', name='foldCol', doc=\"Param for the column name of user specified fold number. Once this is specified, :py:class:`CrossValidator` won't do random k-fold split. Note that this column should be integer type with range [0, numFolds) and Spark will throw exception on out-of-range fold numbers.\"): '',\n",
       " Param(parent='CrossValidator_19cf7bdfaefc', name='estimator', doc='estimator to be cross-validated'): LogisticRegression_205d45399134,\n",
       " Param(parent='CrossValidator_19cf7bdfaefc', name='estimatorParamMaps', doc='estimator param maps'): [{Param(parent='LogisticRegression_205d45399134', name='maxIter', doc='max number of iterations (>= 0).'): 2,\n",
       "   Param(parent='LogisticRegression_205d45399134', name='regParam', doc='regularization parameter (>= 0).'): 0.01},\n",
       "  {Param(parent='LogisticRegression_205d45399134', name='maxIter', doc='max number of iterations (>= 0).'): 2,\n",
       "   Param(parent='LogisticRegression_205d45399134', name='regParam', doc='regularization parameter (>= 0).'): 0.05},\n",
       "  {Param(parent='LogisticRegression_205d45399134', name='maxIter', doc='max number of iterations (>= 0).'): 2,\n",
       "   Param(parent='LogisticRegression_205d45399134', name='regParam', doc='regularization parameter (>= 0).'): 0.3},\n",
       "  {Param(parent='LogisticRegression_205d45399134', name='maxIter', doc='max number of iterations (>= 0).'): 10,\n",
       "   Param(parent='LogisticRegression_205d45399134', name='regParam', doc='regularization parameter (>= 0).'): 0.01},\n",
       "  {Param(parent='LogisticRegression_205d45399134', name='maxIter', doc='max number of iterations (>= 0).'): 10,\n",
       "   Param(parent='LogisticRegression_205d45399134', name='regParam', doc='regularization parameter (>= 0).'): 0.05},\n",
       "  {Param(parent='LogisticRegression_205d45399134', name='maxIter', doc='max number of iterations (>= 0).'): 10,\n",
       "   Param(parent='LogisticRegression_205d45399134', name='regParam', doc='regularization parameter (>= 0).'): 0.3},\n",
       "  {Param(parent='LogisticRegression_205d45399134', name='maxIter', doc='max number of iterations (>= 0).'): 50,\n",
       "   Param(parent='LogisticRegression_205d45399134', name='regParam', doc='regularization parameter (>= 0).'): 0.01},\n",
       "  {Param(parent='LogisticRegression_205d45399134', name='maxIter', doc='max number of iterations (>= 0).'): 50,\n",
       "   Param(parent='LogisticRegression_205d45399134', name='regParam', doc='regularization parameter (>= 0).'): 0.05},\n",
       "  {Param(parent='LogisticRegression_205d45399134', name='maxIter', doc='max number of iterations (>= 0).'): 50,\n",
       "   Param(parent='LogisticRegression_205d45399134', name='regParam', doc='regularization parameter (>= 0).'): 0.3}],\n",
       " Param(parent='CrossValidator_19cf7bdfaefc', name='evaluator', doc='evaluator used to select hyper-parameters that maximize the validator metric'): BinaryClassificationEvaluator_afdea990bd52}"
      ]
     },
     "execution_count": 44,
     "metadata": {},
     "output_type": "execute_result"
    }
   ],
   "source": [
    "cv.extractParamMap()"
   ]
  },
  {
   "cell_type": "code",
   "execution_count": 45,
   "metadata": {},
   "outputs": [],
   "source": [
    "comp_df = spark.createDataFrame([Row(V4366=0.0, V4460=0.232, V4916=-0.017, V1495=-0.104, V1639=0.005, V1967=-0.008, V3049=0.177, V3746=-0.675, V3869=-3.451, V524=0.004, V5409=0), Row(V4366=0.0, V4460=0.111, V4916=-0.003, V1495=-0.137, V1639=0.001, V1967=-0.01, V3049=0.01, V3746=-0.867, V3869=-2.759, V524=0.0, V5409=0), Row(V4366=0.0, V4460=-0.391, V4916=-0.003, V1495=-0.155, V1639=-0.006, V1967=-0.019, V3049=-0.706, V3746=0.166, V3869=0.189, V524=0.001, V5409=0), Row(V4366=0.0, V4460=0.098, V4916=-0.012, V1495=-0.108, V1639=0.005, V1967=-0.002, V3049=0.033, V3746=-0.787, V3869=-0.926, V524=0.002, V5409=0), Row(V4366=0.0, V4460=0.026, V4916=-0.004, V1495=-0.139, V1639=0.003, V1967=-0.006, V3049=-0.045, V3746=-0.208, V3869=-0.782, V524=0.001, V5409=0)])\n",
    "competition_train = comp_df.rdd.map(lambda x:(Vectors.dense(x[0:-1]), x[-1])).toDF([\"features\", \"label\"])"
   ]
  },
  {
   "cell_type": "code",
   "execution_count": 46,
   "metadata": {},
   "outputs": [
    {
     "name": "stdout",
     "output_type": "stream",
     "text": [
      "aggregationDepth: suggested depth for treeAggregate (>= 2). (default: 2)\n",
      "elasticNetParam: the ElasticNet mixing parameter, in range [0, 1]. For alpha = 0, the penalty is an L2 penalty. For alpha = 1, it is an L1 penalty. (default: 0.0)\n",
      "family: The name of family which is a description of the label distribution to be used in the model. Supported options: auto, binomial, multinomial (default: auto)\n",
      "featuresCol: features column name. (default: features)\n",
      "fitIntercept: whether to fit an intercept term. (default: True)\n",
      "labelCol: label column name. (default: label)\n",
      "lowerBoundsOnCoefficients: The lower bounds on coefficients if fitting under bound constrained optimization. The bound matrix must be compatible with the shape (1, number of features) for binomial regression, or (number of classes, number of features) for multinomial regression. (undefined)\n",
      "lowerBoundsOnIntercepts: The lower bounds on intercepts if fitting under bound constrained optimization. The bounds vector size must beequal with 1 for binomial regression, or the number oflasses for multinomial regression. (undefined)\n",
      "maxBlockSizeInMB: maximum memory in MB for stacking input data into blocks. Data is stacked within partitions. If more than remaining data size in a partition then it is adjusted to the data size. Default 0.0 represents choosing optimal value, depends on specific algorithm. Must be >= 0. (default: 0.0)\n",
      "maxIter: max number of iterations (>= 0). (default: 100, current: 50)\n",
      "predictionCol: prediction column name. (default: prediction)\n",
      "probabilityCol: Column name for predicted class conditional probabilities. Note: Not all models output well-calibrated probability estimates! These probabilities should be treated as confidences, not precise probabilities. (default: probability)\n",
      "rawPredictionCol: raw prediction (a.k.a. confidence) column name. (default: rawPrediction)\n",
      "regParam: regularization parameter (>= 0). (default: 0.0, current: 0.01)\n",
      "standardization: whether to standardize the training features before fitting the model. (default: True)\n",
      "threshold: Threshold in binary classification prediction, in range [0, 1]. If threshold and thresholds are both set, they must match.e.g. if threshold is p, then thresholds must be equal to [1-p, p]. (default: 0.5)\n",
      "thresholds: Thresholds in multi-class classification to adjust the probability of predicting each class. Array must have length equal to the number of classes, with values > 0, excepting that at most one value may be 0. The class with largest value p/t is predicted, where p is the original probability of that class and t is the class's threshold. (undefined)\n",
      "tol: the convergence tolerance for iterative algorithms (>= 0). (default: 1e-06)\n",
      "upperBoundsOnCoefficients: The upper bounds on coefficients if fitting under bound constrained optimization. The bound matrix must be compatible with the shape (1, number of features) for binomial regression, or (number of classes, number of features) for multinomial regression. (undefined)\n",
      "upperBoundsOnIntercepts: The upper bounds on intercepts if fitting under bound constrained optimization. The bound vector size must be equal with 1 for binomial regression, or the number of classes for multinomial regression. (undefined)\n",
      "weightCol: weight column name. If this is not set or empty, we treat all instance weights as 1.0. (undefined)\n",
      "{Param(parent='LogisticRegression_6a1d95f34035', name='aggregationDepth', doc='suggested depth for treeAggregate (>= 2).'): 2, Param(parent='LogisticRegression_6a1d95f34035', name='elasticNetParam', doc='the ElasticNet mixing parameter, in range [0, 1]. For alpha = 0, the penalty is an L2 penalty. For alpha = 1, it is an L1 penalty.'): 0.0, Param(parent='LogisticRegression_6a1d95f34035', name='family', doc='The name of family which is a description of the label distribution to be used in the model. Supported options: auto, binomial, multinomial'): 'auto', Param(parent='LogisticRegression_6a1d95f34035', name='featuresCol', doc='features column name.'): 'features', Param(parent='LogisticRegression_6a1d95f34035', name='fitIntercept', doc='whether to fit an intercept term.'): True, Param(parent='LogisticRegression_6a1d95f34035', name='labelCol', doc='label column name.'): 'label', Param(parent='LogisticRegression_6a1d95f34035', name='maxBlockSizeInMB', doc='maximum memory in MB for stacking input data into blocks. Data is stacked within partitions. If more than remaining data size in a partition then it is adjusted to the data size. Default 0.0 represents choosing optimal value, depends on specific algorithm. Must be >= 0.'): 0.0, Param(parent='LogisticRegression_6a1d95f34035', name='maxIter', doc='max number of iterations (>= 0).'): 50, Param(parent='LogisticRegression_6a1d95f34035', name='predictionCol', doc='prediction column name.'): 'prediction', Param(parent='LogisticRegression_6a1d95f34035', name='probabilityCol', doc='Column name for predicted class conditional probabilities. Note: Not all models output well-calibrated probability estimates! These probabilities should be treated as confidences, not precise probabilities.'): 'probability', Param(parent='LogisticRegression_6a1d95f34035', name='rawPredictionCol', doc='raw prediction (a.k.a. confidence) column name.'): 'rawPrediction', Param(parent='LogisticRegression_6a1d95f34035', name='regParam', doc='regularization parameter (>= 0).'): 0.01, Param(parent='LogisticRegression_6a1d95f34035', name='standardization', doc='whether to standardize the training features before fitting the model.'): True, Param(parent='LogisticRegression_6a1d95f34035', name='threshold', doc='Threshold in binary classification prediction, in range [0, 1]. If threshold and thresholds are both set, they must match.e.g. if threshold is p, then thresholds must be equal to [1-p, p].'): 0.5, Param(parent='LogisticRegression_6a1d95f34035', name='tol', doc='the convergence tolerance for iterative algorithms (>= 0).'): 1e-06}\n"
     ]
    }
   ],
   "source": [
    "lr = LogisticRegression(maxIter=50, regParam=0.01)\n",
    "print (lr.explainParams())\n",
    "\n",
    "model2 = lr.fit(competition_train)\n",
    "print (model2.extractParamMap())"
   ]
  },
  {
   "cell_type": "code",
   "execution_count": 47,
   "metadata": {},
   "outputs": [],
   "source": [
    "m = lr.copy()"
   ]
  },
  {
   "cell_type": "code",
   "execution_count": 48,
   "metadata": {},
   "outputs": [
    {
     "data": {
      "text/plain": [
       "Param(parent='LogisticRegression_6a1d95f34035', name='regParam', doc='regularization parameter (>= 0).')"
      ]
     },
     "execution_count": 48,
     "metadata": {},
     "output_type": "execute_result"
    }
   ],
   "source": [
    "m.getParam('regParam')"
   ]
  },
  {
   "cell_type": "code",
   "execution_count": 49,
   "metadata": {},
   "outputs": [
    {
     "data": {
      "text/plain": [
       "50"
      ]
     },
     "execution_count": 49,
     "metadata": {},
     "output_type": "execute_result"
    }
   ],
   "source": [
    "m.getMaxIter()"
   ]
  },
  {
   "cell_type": "code",
   "execution_count": 50,
   "metadata": {},
   "outputs": [
    {
     "data": {
      "text/plain": [
       "{Param(parent='LogisticRegression_6a1d95f34035', name='aggregationDepth', doc='suggested depth for treeAggregate (>= 2).'): 2,\n",
       " Param(parent='LogisticRegression_6a1d95f34035', name='elasticNetParam', doc='the ElasticNet mixing parameter, in range [0, 1]. For alpha = 0, the penalty is an L2 penalty. For alpha = 1, it is an L1 penalty.'): 0.0,\n",
       " Param(parent='LogisticRegression_6a1d95f34035', name='family', doc='The name of family which is a description of the label distribution to be used in the model. Supported options: auto, binomial, multinomial'): 'auto',\n",
       " Param(parent='LogisticRegression_6a1d95f34035', name='featuresCol', doc='features column name.'): 'features',\n",
       " Param(parent='LogisticRegression_6a1d95f34035', name='fitIntercept', doc='whether to fit an intercept term.'): True,\n",
       " Param(parent='LogisticRegression_6a1d95f34035', name='labelCol', doc='label column name.'): 'label',\n",
       " Param(parent='LogisticRegression_6a1d95f34035', name='maxBlockSizeInMB', doc='maximum memory in MB for stacking input data into blocks. Data is stacked within partitions. If more than remaining data size in a partition then it is adjusted to the data size. Default 0.0 represents choosing optimal value, depends on specific algorithm. Must be >= 0.'): 0.0,\n",
       " Param(parent='LogisticRegression_6a1d95f34035', name='maxIter', doc='max number of iterations (>= 0).'): 50,\n",
       " Param(parent='LogisticRegression_6a1d95f34035', name='predictionCol', doc='prediction column name.'): 'prediction',\n",
       " Param(parent='LogisticRegression_6a1d95f34035', name='probabilityCol', doc='Column name for predicted class conditional probabilities. Note: Not all models output well-calibrated probability estimates! These probabilities should be treated as confidences, not precise probabilities.'): 'probability',\n",
       " Param(parent='LogisticRegression_6a1d95f34035', name='rawPredictionCol', doc='raw prediction (a.k.a. confidence) column name.'): 'rawPrediction',\n",
       " Param(parent='LogisticRegression_6a1d95f34035', name='regParam', doc='regularization parameter (>= 0).'): 0.01,\n",
       " Param(parent='LogisticRegression_6a1d95f34035', name='standardization', doc='whether to standardize the training features before fitting the model.'): True,\n",
       " Param(parent='LogisticRegression_6a1d95f34035', name='threshold', doc='Threshold in binary classification prediction, in range [0, 1]. If threshold and thresholds are both set, they must match.e.g. if threshold is p, then thresholds must be equal to [1-p, p].'): 0.5,\n",
       " Param(parent='LogisticRegression_6a1d95f34035', name='tol', doc='the convergence tolerance for iterative algorithms (>= 0).'): 1e-06}"
      ]
     },
     "execution_count": 50,
     "metadata": {},
     "output_type": "execute_result"
    }
   ],
   "source": [
    "m.extractParamMap()"
   ]
  },
  {
   "cell_type": "code",
   "execution_count": 51,
   "metadata": {},
   "outputs": [
    {
     "data": {
      "text/plain": [
       "\"collectSubModels: Param for whether to collect a list of sub-models trained during tuning. If set to false, then only the single best sub-model will be available after fitting. If set to true, then all sub-models will be available. Warning: For large models, collecting all sub-models can cause OOMs on the Spark driver. (default: False)\\nestimator: estimator to be cross-validated (current: LogisticRegression_205d45399134)\\nestimatorParamMaps: estimator param maps (current: [{Param(parent='LogisticRegression_205d45399134', name='maxIter', doc='max number of iterations (>= 0).'): 2, Param(parent='LogisticRegression_205d45399134', name='regParam', doc='regularization parameter (>= 0).'): 0.01}, {Param(parent='LogisticRegression_205d45399134', name='maxIter', doc='max number of iterations (>= 0).'): 2, Param(parent='LogisticRegression_205d45399134', name='regParam', doc='regularization parameter (>= 0).'): 0.05}, {Param(parent='LogisticRegression_205d45399134', name='maxIter', doc='max number of iterations (>= 0).'): 2, Param(parent='LogisticRegression_205d45399134', name='regParam', doc='regularization parameter (>= 0).'): 0.3}, {Param(parent='LogisticRegression_205d45399134', name='maxIter', doc='max number of iterations (>= 0).'): 10, Param(parent='LogisticRegression_205d45399134', name='regParam', doc='regularization parameter (>= 0).'): 0.01}, {Param(parent='LogisticRegression_205d45399134', name='maxIter', doc='max number of iterations (>= 0).'): 10, Param(parent='LogisticRegression_205d45399134', name='regParam', doc='regularization parameter (>= 0).'): 0.05}, {Param(parent='LogisticRegression_205d45399134', name='maxIter', doc='max number of iterations (>= 0).'): 10, Param(parent='LogisticRegression_205d45399134', name='regParam', doc='regularization parameter (>= 0).'): 0.3}, {Param(parent='LogisticRegression_205d45399134', name='maxIter', doc='max number of iterations (>= 0).'): 50, Param(parent='LogisticRegression_205d45399134', name='regParam', doc='regularization parameter (>= 0).'): 0.01}, {Param(parent='LogisticRegression_205d45399134', name='maxIter', doc='max number of iterations (>= 0).'): 50, Param(parent='LogisticRegression_205d45399134', name='regParam', doc='regularization parameter (>= 0).'): 0.05}, {Param(parent='LogisticRegression_205d45399134', name='maxIter', doc='max number of iterations (>= 0).'): 50, Param(parent='LogisticRegression_205d45399134', name='regParam', doc='regularization parameter (>= 0).'): 0.3}])\\nevaluator: evaluator used to select hyper-parameters that maximize the validator metric (current: BinaryClassificationEvaluator_afdea990bd52)\\nfoldCol: Param for the column name of user specified fold number. Once this is specified, :py:class:`CrossValidator` won't do random k-fold split. Note that this column should be integer type with range [0, numFolds) and Spark will throw exception on out-of-range fold numbers. (default: )\\nnumFolds: number of folds for cross validation (default: 3)\\nparallelism: the number of threads to use when running parallel algorithms (>= 1). (default: 1)\\nseed: random seed. (default: 698957015427823036)\""
      ]
     },
     "execution_count": 51,
     "metadata": {},
     "output_type": "execute_result"
    }
   ],
   "source": [
    "cv.explainParams()"
   ]
  },
  {
   "cell_type": "markdown",
   "metadata": {},
   "source": [
    "Mejor Pipeline:"
   ]
  },
  {
   "cell_type": "code",
   "execution_count": 52,
   "metadata": {},
   "outputs": [],
   "source": [
    "bestPipeline = cvModel.bestModel"
   ]
  },
  {
   "cell_type": "code",
   "execution_count": 53,
   "metadata": {},
   "outputs": [
    {
     "data": {
      "text/plain": [
       "LogisticRegressionModel: uid=LogisticRegression_205d45399134, numClasses=2, numFeatures=24"
      ]
     },
     "execution_count": 53,
     "metadata": {},
     "output_type": "execute_result"
    }
   ],
   "source": [
    "bestPipeline"
   ]
  },
  {
   "cell_type": "markdown",
   "metadata": {},
   "source": [
    "Mejores Parámetros:"
   ]
  },
  {
   "cell_type": "code",
   "execution_count": 54,
   "metadata": {},
   "outputs": [],
   "source": [
    "bestParams = bestPipeline.extractParamMap()"
   ]
  },
  {
   "cell_type": "code",
   "execution_count": 55,
   "metadata": {},
   "outputs": [
    {
     "data": {
      "text/plain": [
       "{Param(parent='LogisticRegression_205d45399134', name='aggregationDepth', doc='suggested depth for treeAggregate (>= 2).'): 2,\n",
       " Param(parent='LogisticRegression_205d45399134', name='elasticNetParam', doc='the ElasticNet mixing parameter, in range [0, 1]. For alpha = 0, the penalty is an L2 penalty. For alpha = 1, it is an L1 penalty.'): 0.0,\n",
       " Param(parent='LogisticRegression_205d45399134', name='family', doc='The name of family which is a description of the label distribution to be used in the model. Supported options: auto, binomial, multinomial'): 'auto',\n",
       " Param(parent='LogisticRegression_205d45399134', name='featuresCol', doc='features column name.'): 'features',\n",
       " Param(parent='LogisticRegression_205d45399134', name='fitIntercept', doc='whether to fit an intercept term.'): True,\n",
       " Param(parent='LogisticRegression_205d45399134', name='labelCol', doc='label column name.'): 'TÍTULOS_CONSEGUIDOS',\n",
       " Param(parent='LogisticRegression_205d45399134', name='maxBlockSizeInMB', doc='maximum memory in MB for stacking input data into blocks. Data is stacked within partitions. If more than remaining data size in a partition then it is adjusted to the data size. Default 0.0 represents choosing optimal value, depends on specific algorithm. Must be >= 0.'): 0.0,\n",
       " Param(parent='LogisticRegression_205d45399134', name='maxIter', doc='max number of iterations (>= 0).'): 50,\n",
       " Param(parent='LogisticRegression_205d45399134', name='predictionCol', doc='prediction column name.'): 'prediction',\n",
       " Param(parent='LogisticRegression_205d45399134', name='probabilityCol', doc='Column name for predicted class conditional probabilities. Note: Not all models output well-calibrated probability estimates! These probabilities should be treated as confidences, not precise probabilities.'): 'probability',\n",
       " Param(parent='LogisticRegression_205d45399134', name='rawPredictionCol', doc='raw prediction (a.k.a. confidence) column name.'): 'rawPrediction',\n",
       " Param(parent='LogisticRegression_205d45399134', name='regParam', doc='regularization parameter (>= 0).'): 0.01,\n",
       " Param(parent='LogisticRegression_205d45399134', name='standardization', doc='whether to standardize the training features before fitting the model.'): True,\n",
       " Param(parent='LogisticRegression_205d45399134', name='threshold', doc='Threshold in binary classification prediction, in range [0, 1]. If threshold and thresholds are both set, they must match.e.g. if threshold is p, then thresholds must be equal to [1-p, p].'): 0.5,\n",
       " Param(parent='LogisticRegression_205d45399134', name='tol', doc='the convergence tolerance for iterative algorithms (>= 0).'): 1e-06}"
      ]
     },
     "execution_count": 55,
     "metadata": {},
     "output_type": "execute_result"
    }
   ],
   "source": [
    "bestParams"
   ]
  },
  {
   "cell_type": "markdown",
   "metadata": {},
   "source": [
    "PCA:"
   ]
  },
  {
   "cell_type": "code",
   "execution_count": 60,
   "metadata": {},
   "outputs": [
    {
     "data": {
      "text/plain": [
       "DenseVector([-3.4903, -0.4039, 0.3183, 0.0834, 0.0797, -0.0246, -0.0203, -0.0181, 0.0004, 0.0])"
      ]
     },
     "execution_count": 60,
     "metadata": {},
     "output_type": "execute_result"
    }
   ],
   "source": [
    "pca = PCA(k=10, inputCol=\"features\", outputCol=\"pca_features\")\n",
    "model = pca.fit(competition_train)\n",
    "model.transform(competition_train).collect()[0].pca_features"
   ]
  },
  {
   "cell_type": "code",
   "execution_count": 61,
   "metadata": {},
   "outputs": [
    {
     "name": "stdout",
     "output_type": "stream",
     "text": [
      "ChiSqSelector output with top 1 features selected\n",
      "+--------------------+-----+----------------+\n",
      "|            features|label|selectedFeatures|\n",
      "+--------------------+-----+----------------+\n",
      "|[0.0,0.232,-0.017...|    0|           [0.0]|\n",
      "|[0.0,0.111,-0.003...|    0|           [0.0]|\n",
      "|[0.0,-0.391,-0.00...|    0|           [0.0]|\n",
      "|[0.0,0.098,-0.012...|    0|           [0.0]|\n",
      "|[0.0,0.026,-0.004...|    0|           [0.0]|\n",
      "+--------------------+-----+----------------+\n",
      "\n"
     ]
    }
   ],
   "source": [
    "selector = ChiSqSelector(numTopFeatures=1, featuresCol=\"features\", outputCol=\"selectedFeatures\", labelCol=\"label\")\n",
    "\n",
    "result = selector.fit(competition_train).transform(competition_train)\n",
    "\n",
    "print(\"ChiSqSelector output with top %d features selected\" % selector.getNumTopFeatures())\n",
    "\n",
    "result.show()"
   ]
  }
 ],
 "metadata": {
  "kernelspec": {
   "display_name": "Python 3",
   "language": "python",
   "name": "python3"
  },
  "language_info": {
   "codemirror_mode": {
    "name": "ipython",
    "version": 3
   },
   "file_extension": ".py",
   "mimetype": "text/x-python",
   "name": "python",
   "nbconvert_exporter": "python",
   "pygments_lexer": "ipython3",
   "version": "3.8.8"
  }
 },
 "nbformat": 4,
 "nbformat_minor": 2
}
